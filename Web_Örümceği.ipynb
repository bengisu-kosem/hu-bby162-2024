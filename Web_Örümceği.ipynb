{
  "nbformat": 4,
  "nbformat_minor": 0,
  "metadata": {
    "colab": {
      "provenance": [],
      "authorship_tag": "ABX9TyPH6qSk46X171DcCNTyggBP",
      "include_colab_link": true
    },
    "kernelspec": {
      "name": "python3",
      "display_name": "Python 3"
    },
    "language_info": {
      "name": "python"
    }
  },
  "cells": [
    {
      "cell_type": "markdown",
      "metadata": {
        "id": "view-in-github",
        "colab_type": "text"
      },
      "source": [
        "<a href=\"https://colab.research.google.com/github/bengisu-kosem/hu-bby162-2024/blob/main/Web_%C3%96r%C3%BCmce%C4%9Fi.ipynb\" target=\"_parent\"><img src=\"https://colab.research.google.com/assets/colab-badge.svg\" alt=\"Open In Colab\"/></a>"
      ]
    },
    {
      "cell_type": "code",
      "source": [
        "!pip install requests beautifulsoup4"
      ],
      "metadata": {
        "colab": {
          "base_uri": "https://localhost:8080/"
        },
        "id": "w34bos6yKFKA",
        "outputId": "5ceaf4e6-58e0-4388-8633-406cd460c3cd"
      },
      "execution_count": null,
      "outputs": [
        {
          "output_type": "stream",
          "name": "stdout",
          "text": [
            "Requirement already satisfied: requests in /usr/local/lib/python3.10/dist-packages (2.32.3)\n",
            "Requirement already satisfied: beautifulsoup4 in /usr/local/lib/python3.10/dist-packages (4.12.3)\n",
            "Requirement already satisfied: charset-normalizer<4,>=2 in /usr/local/lib/python3.10/dist-packages (from requests) (3.4.0)\n",
            "Requirement already satisfied: idna<4,>=2.5 in /usr/local/lib/python3.10/dist-packages (from requests) (3.10)\n",
            "Requirement already satisfied: urllib3<3,>=1.21.1 in /usr/local/lib/python3.10/dist-packages (from requests) (2.2.3)\n",
            "Requirement already satisfied: certifi>=2017.4.17 in /usr/local/lib/python3.10/dist-packages (from requests) (2024.8.30)\n",
            "Requirement already satisfied: soupsieve>1.2 in /usr/local/lib/python3.10/dist-packages (from beautifulsoup4) (2.6)\n"
          ]
        }
      ]
    },
    {
      "cell_type": "code",
      "source": [
        "import requests\n",
        "from bs4 import BeautifulSoup\n",
        "import urllib.parse\n",
        "import pandas as pd\n",
        "\n",
        "def scrape_website(url, depth):\n",
        "    visited = set()\n",
        "    results = {}\n",
        "\n",
        "    def visit(url, current_depth):\n",
        "        if current_depth > depth or url in visited:\n",
        "            return\n",
        "        visited.add(url)\n",
        "\n",
        "        try:\n",
        "            response = requests.get(url)\n",
        "            if response.status_code == 200:\n",
        "                soup = BeautifulSoup(response.text, 'html.parser')\n",
        "                title = soup.title.string if soup.title else 'No Title'\n",
        "                results[url] = title\n",
        "                print(f'Visited: {url} | Title: {title}')\n",
        "\n",
        "                # Linkleri bul\n",
        "                links = [a['href'] for a in soup.find_all('a', href=True)]\n",
        "                for link in links:\n",
        "                    full_link = urllib.parse.urljoin(url, link)\n",
        "                    visit(full_link, current_depth + 1)\n",
        "        except Exception as e:\n",
        "            print(f\"Error visiting {url}: {e}\")\n",
        "\n",
        "    visit(url, 0)\n",
        "    return results\n",
        "\n",
        "# Kullanıcıdan giriş almak için form\n",
        "from google.colab import widgets\n",
        "\n",
        "# Kullanıcıdan başlangıç URL'si ve derinlik al\n",
        "url_input = input(\"Başlangıç URL'sini girin: \")\n",
        "depth_input = int(input(\"Tarama derinliğini girin (0-3): \"))\n",
        "\n",
        "# Web sitesini tarama\n",
        "results = scrape_website(url_input, depth_input)\n",
        "\n",
        "# Sonuçları metin dosyasına yazma\n",
        "with open('orumcek.txt', 'w') as f:\n",
        "    for url, title in results.items():\n",
        "        f.write(f'{url} | {title}\\n')\n",
        "\n",
        "print(\"Taramadan elde edilen sonuçlar orumcek.txt dosyasına yazıldı.\")\n"
      ],
      "metadata": {
        "colab": {
          "base_uri": "https://localhost:8080/"
        },
        "id": "gHBtbAvEKO4q",
        "outputId": "f16727f9-a622-4f44-904d-04a607cd630d"
      },
      "execution_count": 3,
      "outputs": [
        {
          "output_type": "stream",
          "name": "stdout",
          "text": [
            "Başlangıç URL'sini girin: https://github.com/bengisu-kosem/hu-bby162-2024\n",
            "Tarama derinliğini girin (0-3): 2\n",
            "Visited: https://github.com/bengisu-kosem/hu-bby162-2024 | Title: GitHub - bengisu-kosem/hu-bby162-2024\n",
            "Visited: https://github.com/bengisu-kosem/hu-bby162-2024#start-of-content | Title: GitHub - bengisu-kosem/hu-bby162-2024\n",
            "Visited: https://github.com/ | Title: GitHub: Let’s build from here · GitHub\n",
            "Visited: https://github.com/login?return_to=https%3A%2F%2Fgithub.com%2Fbengisu-kosem%2Fhu-bby162-2024 | Title: Sign in to GitHub · GitHub\n",
            "Visited: https://github.com/features/copilot | Title: GitHub Copilot · Your AI pair programmer · GitHub\n",
            "Visited: https://github.com/features/security | Title: GitHub Security · GitHub\n",
            "Visited: https://github.com/features/actions | Title: GitHub Actions · GitHub\n",
            "Visited: https://github.com/features/codespaces | Title: GitHub Codespaces · GitHub\n",
            "Visited: https://github.com/features/issues | Title: GitHub Issues · Project planning for developers · GitHub\n",
            "Visited: https://github.com/features/code-review | Title: GitHub Code Review · GitHub\n",
            "Visited: https://github.com/features/discussions | Title: GitHub Discussions · Developer Collaboration & Communication Tool · GitHub\n",
            "Visited: https://github.com/features/code-search | Title: GitHub Code Search · GitHub\n",
            "Visited: https://github.com/features | Title: GitHub Features · GitHub\n",
            "Visited: https://docs.github.com | Title: GitHub Docs\n",
            "Visited: https://skills.github.com | Title: GitHub Skills\n",
            "Visited: https://github.blog | Title: Home - The GitHub Blog\n",
            "Visited: https://github.com/enterprise | Title: The AI Powered Developer Platform. · GitHub\n",
            "Visited: https://github.com/team | Title: GitHub for teams · Build like the best teams on the planet · GitHub\n",
            "Visited: https://github.com/enterprise/startups | Title: GitHub for Startups: Build your startup on GitHub · GitHub\n",
            "Visited: https://github.com/solutions/industries/healthcare | Title: Healthcare solutions · GitHub\n",
            "Visited: https://github.com/solutions/industries/financial-services | Title: Financial services · GitHub\n",
            "Visited: https://github.com/solutions/industries/manufacturing | Title: Manufacturing solutions · GitHub\n",
            "Visited: https://github.com/solutions/ci-cd | Title: A Complete CI/CD Solution | GitHub · GitHub\n",
            "Visited: https://github.com/solutions/devops | Title: GitHub DevOps: The unified platform for your DevOps lifecycle · GitHub\n",
            "Visited: https://github.com/solutions/devsecops | Title: Enterprise AppSec with GitHub Advanced Security · GitHub\n",
            "Visited: https://github.com/resources/articles/ai | Title: AI · GitHub\n",
            "Visited: https://github.com/resources/articles/devops | Title: DevOps · GitHub\n",
            "Visited: https://github.com/resources/articles/security | Title: Security · GitHub\n",
            "Visited: https://github.com/resources/articles/software-development | Title: Software Development · GitHub\n",
            "Visited: https://github.com/resources/articles | Title: All Topics · GitHub\n",
            "Visited: https://resources.github.com/learn/pathways | Title: GitHub Learning Pathways - GitHub Resources\n",
            "Visited: https://resources.github.com | Title: Home - GitHub Resources\n",
            "Visited: https://github.com/customer-stories | Title: Customer stories · GitHub\n",
            "Visited: https://partner.github.com | Title: Partner with GitHub | GitHub Partner Portal\n",
            "Visited: https://github.com/sponsors | Title: GitHub Sponsors · GitHub\n",
            "Visited: https://github.com/readme | Title: The ReadME Project · Meet the people behind the projects you love · GitHub\n",
            "Visited: https://github.com/topics | Title: Topics on GitHub · GitHub\n",
            "Visited: https://github.com/trending | Title: Trending  repositories on GitHub today · GitHub\n",
            "Visited: https://github.com/collections | Title: Collections · GitHub\n",
            "Visited: https://github.com/enterprise/advanced-security | Title: GitHub · Enterprise Application Security · GitHub · GitHub\n",
            "Visited: https://github.com/features/copilot#enterprise | Title: GitHub Copilot · Your AI pair programmer · GitHub\n",
            "Visited: https://github.com/premium-support | Title: GitHub Premium Support · GitHub\n",
            "Visited: https://github.com/pricing | Title: Pricing · Plans for every developer · GitHub\n",
            "Visited: https://docs.github.com/search-github/github-code-search/understanding-github-code-search-syntax | Title: Understanding GitHub Code Search syntax - GitHub Docs\n",
            "Visited: https://github.com/signup?ref_cta=Sign+up&ref_loc=header+logged+out&ref_page=%2F%3Cuser-name%3E%2F%3Crepo-name%3E&source=header-repo&source_repo=bengisu-kosem%2Fhu-bby162-2024 | Title: Join GitHub · GitHub\n",
            "Visited: https://github.com/bengisu-kosem | Title: bengisu-kosem · GitHub\n",
            "Visited: https://github.com/login?return_to=%2Fbengisu-kosem%2Fhu-bby162-2024 | Title: Sign in to GitHub · GitHub\n",
            "Visited: https://github.com/bengisu-kosem/hu-bby162-2024/blob/main/LICENSE | Title: hu-bby162-2024/LICENSE at main · bengisu-kosem/hu-bby162-2024 · GitHub\n",
            "Visited: https://github.com/bengisu-kosem/hu-bby162-2024/stargazers | Title: Stargazers · bengisu-kosem/hu-bby162-2024 · GitHub\n",
            "Visited: https://github.com/bengisu-kosem/hu-bby162-2024/forks | Title: Forks · bengisu-kosem/hu-bby162-2024 · GitHub\n",
            "Visited: https://github.com/bengisu-kosem/hu-bby162-2024/branches | Title: Branches · bengisu-kosem/hu-bby162-2024 · GitHub\n",
            "Visited: https://github.com/bengisu-kosem/hu-bby162-2024/tags | Title: Releases · bengisu-kosem/hu-bby162-2024 · GitHub\n",
            "Visited: https://github.com/bengisu-kosem/hu-bby162-2024/activity | Title: Activity · bengisu-kosem/hu-bby162-2024 · GitHub\n",
            "Visited: https://github.com/bengisu-kosem/hu-bby162-2024/issues | Title: Issues · bengisu-kosem/hu-bby162-2024 · GitHub\n",
            "Visited: https://github.com/bengisu-kosem/hu-bby162-2024/pulls | Title: Pull requests · bengisu-kosem/hu-bby162-2024 · GitHub\n",
            "Visited: https://github.com/bengisu-kosem/hu-bby162-2024/actions | Title: Actions · bengisu-kosem/hu-bby162-2024 · GitHub\n",
            "Visited: https://github.com/bengisu-kosem/hu-bby162-2024/projects | Title: Projects · hu-bby162-2024 · GitHub\n",
            "Visited: https://github.com/bengisu-kosem/hu-bby162-2024/security | Title: Security Overview · bengisu-kosem/hu-bby162-2024 · GitHub\n",
            "Visited: https://github.com/bengisu-kosem/hu-bby162-2024/pulse | Title: Pulse · bengisu-kosem/hu-bby162-2024 · GitHub\n",
            "Visited: https://github.com/bengisu-kosem/hu-bby162-2024/commits/main/ | Title: Commits · bengisu-kosem/hu-bby162-2024 · GitHub\n",
            "Visited: https://github.com/bengisu-kosem/hu-bby162-2024/blob/main/.gitignore | Title: hu-bby162-2024/.gitignore at main · bengisu-kosem/hu-bby162-2024 · GitHub\n",
            "Visited: https://github.com/bengisu-kosem/hu-bby162-2024/blob/main/AdamAsmacaOyunu.ipynb | Title: hu-bby162-2024/AdamAsmacaOyunu.ipynb at main · bengisu-kosem/hu-bby162-2024 · GitHub\n",
            "Visited: https://github.com/bengisu-kosem/hu-bby162-2024/blob/main/BengisuK%C3%B6semFinalSinavi.ipynb | Title: hu-bby162-2024/BengisuKösemFinalSinavi.ipynb at main · bengisu-kosem/hu-bby162-2024 · GitHub\n",
            "Visited: https://github.com/bengisu-kosem/hu-bby162-2024/blob/main/CanliSinav01-Bengisu%20K%C3%B6sem.ipynb | Title: hu-bby162-2024/CanliSinav01-Bengisu Kösem.ipynb at main · bengisu-kosem/hu-bby162-2024 · GitHub\n",
            "Visited: https://github.com/bengisu-kosem/hu-bby162-2024/blob/main/Python_101_Bengisu_K%C3%B6sem_adl%C4%B1_not_defteri.ipynb | Title: hu-bby162-2024/Python_101_Bengisu_Kösem_adlı_not_defteri.ipynb at main · bengisu-kosem/hu-bby162-2024 · GitHub\n",
            "Visited: https://github.com/bengisu-kosem/hu-bby162-2024/blob/main/README.md | Title: hu-bby162-2024/README.md at main · bengisu-kosem/hu-bby162-2024 · GitHub\n",
            "Visited: https://github.com/bengisu-kosem/hu-bby162-2024/blob/main/S%C3%B6zl%C3%BCkodevi.ipynb | Title: hu-bby162-2024/Sözlükodevi.ipynb at main · bengisu-kosem/hu-bby162-2024 · GitHub\n",
            "Visited: https://github.com/bengisu-kosem/hu-bby162-2024#hu-bby162-2024 | Title: GitHub - bengisu-kosem/hu-bby162-2024\n",
            "Visited: https://github.com/bengisu-kosem/hu-bby162-2024#readme-ov-file | Title: GitHub - bengisu-kosem/hu-bby162-2024\n",
            "Visited: https://github.com/bengisu-kosem/hu-bby162-2024#MIT-1-ov-file | Title: GitHub - bengisu-kosem/hu-bby162-2024\n",
            "Visited: https://github.com/bengisu-kosem/hu-bby162-2024/watchers | Title: Watchers · bengisu-kosem/hu-bby162-2024 · GitHub\n",
            "Visited: https://github.com/contact/report-content?content_url=https%3A%2F%2Fgithub.com%2Fbengisu-kosem%2Fhu-bby162-2024&report=bengisu-kosem+%28user%29 | Title: Sign in for Software Support and Product Help - GitHub Support\n",
            "Visited: https://github.com/bengisu-kosem/hu-bby162-2024/releases | Title: Releases · bengisu-kosem/hu-bby162-2024 · GitHub\n",
            "Visited: https://github.com/users/bengisu-kosem/packages?repo_name=hu-bby162-2024 | Title: bengisu-kosem / Packages · GitHub\n",
            "Visited: https://github.com | Title: GitHub: Let’s build from here · GitHub\n",
            "Visited: https://docs.github.com/site-policy/github-terms/github-terms-of-service | Title: GitHub Terms of Service - GitHub Docs\n",
            "Visited: https://docs.github.com/site-policy/privacy-policies/github-privacy-statement | Title: GitHub General Privacy Statement - GitHub Docs\n",
            "Visited: https://github.com/security | Title: GitHub Security · GitHub\n",
            "Visited: https://www.githubstatus.com/ | Title: GitHub Status\n",
            "Visited: https://docs.github.com/ | Title: GitHub Docs\n",
            "Visited: https://support.github.com?tags=dotcom-footer | Title: Sign in for Software Support and Product Help - GitHub Support\n",
            "Taramadan elde edilen sonuçlar scraping_results.txt dosyasına yazıldı.\n"
          ]
        }
      ]
    }
  ]
}