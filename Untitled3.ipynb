{
  "nbformat": 4,
  "nbformat_minor": 0,
  "metadata": {
    "colab": {
      "provenance": [],
      "authorship_tag": "ABX9TyN3xPiuaEQz6GDzy6V78V3b",
      "include_colab_link": true
    },
    "kernelspec": {
      "name": "python3",
      "display_name": "Python 3"
    },
    "language_info": {
      "name": "python"
    }
  },
  "cells": [
    {
      "cell_type": "markdown",
      "metadata": {
        "id": "view-in-github",
        "colab_type": "text"
      },
      "source": [
        "<a href=\"https://colab.research.google.com/github/bengisu-kosem/hu-bby162-2024/blob/main/Untitled3.ipynb\" target=\"_parent\"><img src=\"https://colab.research.google.com/assets/colab-badge.svg\" alt=\"Open In Colab\"/></a>"
      ]
    },
    {
      "cell_type": "code",
      "execution_count": 2,
      "metadata": {
        "colab": {
          "base_uri": "https://localhost:8080/"
        },
        "id": "QYzjb9kZYttg",
        "outputId": "6e236c85-5e0d-42df-cfb7-e33057a9e958"
      },
      "outputs": [
        {
          "output_type": "stream",
          "name": "stdout",
          "text": [
            "{'Komedi': 'Aile Arasında', 'Korku': 'Dabbe', 'Dram': 'Yeşil Yol'}\n"
          ]
        }
      ],
      "source": [
        "filmTurleri = {\"Komedi\": \"Aile Arasında\", \"Korku\": \"Dabbe\", \"Dram\": \"Yeşil Yol\",\"Bilim Kurgu\": \"Gora\", \"Aksiyon\": \"Damsel\", \"Belgesel\": \"Ahtapottan Öğrendiklerim\", \"Yeşilçam\": \"Neşeli Günler\", \"Animasyon\": \"Garfield\", \"Çizgi Film\": \"Tom ve Jerry\", \"Anime\": \"Tepedeki Ev\"}\n",
        "print(filmTurleri)"
      ]
    },
    {
      "cell_type": "code",
      "source": [
        "filmTuru = input(\"Yeni bir film türü ekleyiniz: \")\n",
        "filmAdi = input(\"Yeni bir film giriniz: \")\n",
        "filmTurleri[filmTuru] = filmAdi\n",
        "print(filmTurleri)"
      ],
      "metadata": {
        "colab": {
          "base_uri": "https://localhost:8080/"
        },
        "id": "OTXjDwh3aen5",
        "outputId": "c9c3fa2a-42b3-4249-8cf4-79d0eefe26a0"
      },
      "execution_count": 20,
      "outputs": [
        {
          "output_type": "stream",
          "name": "stdout",
          "text": [
            "Yeni bir film türü ekleyiniz: Aksiyon\n",
            "Yeni bir film giriniz: Uyumsuz\n",
            "{'ask': 'ask101', 'Bilim Kurgu': 'Zamana Karşı', 'Aksiyon': 'Uyumsuz'}\n"
          ]
        }
      ]
    },
    {
      "cell_type": "code",
      "source": [
        "silinecek = input(\"Silmek istediğiniz film türünü giriniz: \")\n",
        "print(\"Silinecek film: \" + filmTurleri[silinecek-1])\n",
        "del filmTurleri[silinecek-1]\n",
        "print(\"Silme Tamamlandı\")\n",
        "print(filmTurleri)"
      ],
      "metadata": {
        "colab": {
          "base_uri": "https://localhost:8080/"
        },
        "id": "22NZjweVggqw",
        "outputId": "4cd556c8-951b-4891-d219-b86281df4172"
      },
      "execution_count": 19,
      "outputs": [
        {
          "output_type": "stream",
          "name": "stdout",
          "text": [
            "Silmek istediğiniz film türünü giriniz: Korku\n",
            "Silinecek film: Dabbe\n",
            "{'ask': 'ask101', 'Bilim Kurgu': 'Zamana Karşı'}\n"
          ]
        }
      ]
    },
    {
      "cell_type": "code",
      "source": [
        "güncellenecek = input(\"Güncellemek istediğiniz film türünü giriniz: \")\n",
        "print(\"Güncellenecek film : \" + filmTurleri[güncellenecek-1])\n",
        "güncelFilm = input(\"Güncellenen filmi giriniz: \")\n",
        "filmTurleri[güncellenecek-1] = güncelFilm\n",
        "print(\"Güncelleme Tamamlandı\")\n",
        "print(filmTurleri)"
      ],
      "metadata": {
        "colab": {
          "base_uri": "https://localhost:8080/"
        },
        "id": "8Sh26_13hezz",
        "outputId": "df3594da-d03c-41b5-e224-447367a7a5ad"
      },
      "execution_count": 16,
      "outputs": [
        {
          "output_type": "stream",
          "name": "stdout",
          "text": [
            "Güncellemek istediğiniz film türünü giriniz: Komedi\n",
            "Güncellenecek film türü : Aile Arasında\n",
            "Güncellenen filmi giriniz: Eyvah Eyvah\n",
            "{'Komedi': 'Eyvah Eyvah', 'Korku': 'Dabbe', 'ask': 'ask101'}\n"
          ]
        }
      ]
    },
    {
      "cell_type": "code",
      "source": [
        "filmTurleri = {\"Komedi\": \"Aile Arasında\", \"Korku\": \"Dabbe\", \"Dram\": \"Yeşil Yol\", \"Bilim Kurgu\": \"Gora\", \"Aksiyon\": \"Damsel\", \"Belgesel\": \"Ahtapottan Öğrendiklerim\", \"Yeşilçam\": \"Neşeli Günler\", \"Animasyon\": \"Garfield\", \"Çizgi Film\": \"Tom ve Jerry\", \"Anime\": \"Tepedeki Ev\"}\n",
        "print(\"Komedi\" in filmTurleri.keys())"
      ],
      "metadata": {
        "colab": {
          "base_uri": "https://localhost:8080/"
        },
        "id": "6gtggQaVodej",
        "outputId": "d65c465f-280f-41ad-db06-b8a250773a8b"
      },
      "execution_count": 26,
      "outputs": [
        {
          "output_type": "stream",
          "name": "stdout",
          "text": [
            "True\n"
          ]
        }
      ]
    }
  ]
}