{
  "nbformat": 4,
  "nbformat_minor": 0,
  "metadata": {
    "colab": {
      "provenance": [],
      "authorship_tag": "ABX9TyM5vy3eUtd4Ecb6BAiAuPdp",
      "include_colab_link": true
    },
    "kernelspec": {
      "name": "python3",
      "display_name": "Python 3"
    },
    "language_info": {
      "name": "python"
    }
  },
  "cells": [
    {
      "cell_type": "markdown",
      "metadata": {
        "id": "view-in-github",
        "colab_type": "text"
      },
      "source": [
        "<a href=\"https://colab.research.google.com/github/bengisu-kosem/hu-bby162-2024/blob/main/AdamAsmacaOyunu.ipynb\" target=\"_parent\"><img src=\"https://colab.research.google.com/assets/colab-badge.svg\" alt=\"Open In Colab\"/></a>"
      ]
    },
    {
      "cell_type": "code",
      "execution_count": 39,
      "metadata": {
        "id": "LLu65xVPdKzW",
        "colab": {
          "base_uri": "https://localhost:8080/"
        },
        "outputId": "08bc7cca-4faa-4e61-b19b-6df68e7d83fe"
      },
      "outputs": [
        {
          "output_type": "stream",
          "name": "stdout",
          "text": [
            "seviye seçiniz: kolay\n",
            "Hoşgeldiniz!\n",
            "Bir harf giriniz: m\n",
            "['_', '_', '_', '_', '_', '_', '_', '_', '_', '_', '_', '_']\n",
            "Kalan can: 6\n",
            "Bir harf giriniz: t\n",
            "['t', '_', '_', 't', '_', '_', '_', '_', '_', '_', '_', '_']\n",
            "Kalan can: 6\n",
            "Bir harf giriniz: a\n",
            "['t', 'a', '_', 't', '_', '_', '_', '_', 'a', '_', '_', '_']\n",
            "Kalan can: 6\n",
            "Bir harf giriniz: h\n",
            "['t', 'a', 'h', 't', '_', '_', '_', '_', 'a', '_', '_', '_']\n",
            "Kalan can: 6\n",
            "Bir harf giriniz: t\n",
            "['t', 'a', 'h', 't', '_', '_', '_', '_', 'a', '_', '_', '_']\n",
            "Kalan can: 6\n",
            "Bir harf giriniz: e\n",
            "['t', 'a', 'h', 't', 'e', '_', 'e', '_', 'a', '_', '_', '_']\n",
            "Kalan can: 6\n",
            "Bir harf giriniz: r\n",
            "['t', 'a', 'h', 't', 'e', 'r', 'e', '_', 'a', '_', '_', '_']\n",
            "Kalan can: 6\n",
            "Bir harf giriniz: v\n",
            "['t', 'a', 'h', 't', 'e', 'r', 'e', 'v', 'a', '_', '_', '_']\n",
            "Kalan can: 6\n",
            "Bir harf giriniz: l\n",
            "['t', 'a', 'h', 't', 'e', 'r', 'e', 'v', 'a', 'l', 'l', '_']\n",
            "Kalan can: 6\n",
            "Bir harf giriniz: i\n",
            "['t', 'a', 'h', 't', 'e', 'r', 'e', 'v', 'a', 'l', 'l', 'i']\n",
            "Kalan can: 6\n",
            "Tebrik ederimm! Kelimeyi buldunuzz.\n",
            "Tekrar oynamak ister misiniz? (evet/hayır): hayır\n",
            "Oyun kapanıyor...\n"
          ]
        }
      ],
      "source": [
        "from random import choice\n",
        "\n",
        "def kelimeSec():\n",
        "  kelimeler = [\"elma\",\"mantı\",\"persembe\",\"tahterevalli\"]\n",
        "  return choice(kelimeler)\n",
        "def girilenHarf(dizilenKelime):\n",
        "  print(\"Şimdiye kadar doğru bildiklerin: \",dizilenKelime)\n",
        "  return input(\"Bir harf giriniz: \")\n",
        "\n",
        "def harfKontrol(secilenKelime,dizilenKelime,girilenHarf,adamCan):\n",
        "  if girilenHarf not in secilenKelime:\n",
        "    adamCan -= 1\n",
        "  i = 0\n",
        "  while i < len(secilenKelime):\n",
        "    if secilenKelime[i] == girilenHarf:\n",
        "      dizilenKelime[i] = girilenHarf\n",
        "    i += 1\n",
        "  return adamCan,dizilenKelime\n",
        "def seviyeSec():\n",
        "  seviyeler = {'kolay': 7, 'orta': 5,'zor': 3}\n",
        "  while True:\n",
        "    secim = input(\"seviye seçiniz: \")\n",
        "    if secim in seviyeler:\n",
        "      return seviyeler[secim]\n",
        "    else:\n",
        "      print(\"Lütfen geçerli bir seviye giriniz.\")\n",
        "def oyun():\n",
        "  adamCan = int(seviyeSec())\n",
        "  secilenKelime = kelimeSec()\n",
        "  dizilenKelime = [\"_\" for _ in secilenKelime]\n",
        "  print(\"Hoşgeldiniz!\")\n",
        "\n",
        "  while adamCan > 0 and \"_\" in dizilenKelime:\n",
        "    girilenHarf = input(\"Bir harf giriniz: \")\n",
        "    canKontrol = girilenHarf in secilenKelime\n",
        "    if canKontrol == False:\n",
        "      adamCan -= 1\n",
        "    i = 0\n",
        "    for kontrol in secilenKelime:\n",
        "      if secilenKelime[i] == girilenHarf:\n",
        "        dizilenKelime[i] = girilenHarf\n",
        "      i += 1\n",
        "    print(dizilenKelime)\n",
        "    print(\"Kalan can: \" + str(adamCan))\n",
        "\n",
        "  if \"_\" not in dizilenKelime:\n",
        "     print(\"Tebrik ederimm! Kelimeyi buldunuzz.\")\n",
        "  else:\n",
        "    print(\"Malesef bilemediniz. Kelime: \" , secilenKelime)\n",
        "\n",
        "  tekrar = input(\"Tekrar oynamak ister misiniz? (evet/hayır): \")\n",
        "  if tekrar == \"evet\":\n",
        "    oyun()\n",
        "  else:\n",
        "    print(\"Oyun kapanıyor...\")\n",
        "\n",
        "oyun()"
      ]
    }
  ]
}